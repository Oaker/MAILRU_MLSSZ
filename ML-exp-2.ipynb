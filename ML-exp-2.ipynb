{
 "cells": [
  {
   "cell_type": "code",
   "execution_count": 1,
   "metadata": {},
   "outputs": [
    {
     "name": "stderr",
     "output_type": "stream",
     "text": [
      "C:\\Anaconda\\lib\\site-packages\\sklearn\\cross_validation.py:44: DeprecationWarning: This module was deprecated in version 0.18 in favor of the model_selection module into which all the refactored classes and functions are moved. Also note that the interface of the new CV iterators are different from that of this module. This module will be removed in 0.20.\n",
      "  \"This module will be removed in 0.20.\", DeprecationWarning)\n"
     ]
    }
   ],
   "source": [
    "import numpy as np\n",
    "import pandas as pd\n",
    "import matplotlib.pyplot as plt\n",
    "from sklearn.model_selection import train_test_split\n",
    "from sklearn.linear_model import LogisticRegression\n",
    "import xgboost as xgb\n",
    "from sklearn.metrics import log_loss\n",
    "from xgboost.sklearn import XGBClassifier\n",
    "from sklearn.model_selection import KFold\n",
    "from sklearn.model_selection import cross_val_score\n"
   ]
  },
  {
   "cell_type": "code",
   "execution_count": 2,
   "metadata": {
    "collapsed": true
   },
   "outputs": [],
   "source": [
    "location=\"D:\\s_chernov\\AnacondaProjects\\MLSSZ\\Data\\\\\"\n",
    "df_train = pd.read_csv(location+\"train.csv\",sep=';',na_values=\"None\")\n",
    "df_test = pd.read_csv(location+\"test.csv\",sep=';',na_values=\"None\")"
   ]
  },
  {
   "cell_type": "code",
   "execution_count": 3,
   "metadata": {
    "collapsed": true
   },
   "outputs": [],
   "source": [
    "del df_train['id']\n"
   ]
  },
  {
   "cell_type": "code",
   "execution_count": 4,
   "metadata": {
    "collapsed": true
   },
   "outputs": [],
   "source": [
    "df_train['age_year']=np.int16(df_train.age/365)\n",
    "df_test['age_year']=np.int16(df_test.age/365)\n",
    "df_train.loc[df_train.weight<20,'weight']=df_train.loc[df_train.weight<20,'weight']*10\n",
    "df_test.loc[df_test.weight<20,'weight']=df_test.loc[df_test.weight<20,'weight']*10\n",
    "df_train.loc[df_train.height<100,'height']=df_train.loc[df_train.height<100,'height']*10\n",
    "df_test.loc[df_test.height<100,'height']=df_test.loc[df_test.height<100,'height']*10\n",
    "#height and weight errors\n",
    "correct=df_train.weight>df_train.height\n",
    "correct_weight=df_train.loc[correct,'weight']\n",
    "correct_height=df_train.loc[correct,'height']\n",
    "df_train.loc[correct,'weight']=correct_height\n",
    "df_train.loc[correct,'height']=correct_weight\n",
    "\n",
    "correct=df_test.weight>df_test.height\n",
    "correct_weight=df_test.loc[correct,'weight']\n",
    "correct_height=df_test.loc[correct,'height']\n",
    "df_test.loc[correct,'weight']=correct_height\n",
    "df_test.loc[correct,'height']=correct_weight\n",
    "\n",
    "#____ap_lo and ap_hi\n",
    "df_train.loc[df_train.ap_lo<0,'ap_lo']=-df_train.loc[df_train.ap_lo<0,'ap_lo']\n",
    "df_test.loc[df_test.ap_lo<0,'ap_lo']=-df_test.loc[df_test.ap_lo<0,'ap_lo']\n",
    "\n",
    "df_train.loc[df_train.ap_lo>6000,'ap_lo']=df_train.loc[df_train.ap_lo>6000,'ap_lo']/100\n",
    "df_train.loc[df_train.ap_lo>600,'ap_lo']=df_train.loc[df_train.ap_lo>600,'ap_lo']/10\n",
    "df_test.loc[df_test.ap_lo>6000,'ap_lo']=df_test.loc[df_test.ap_lo>6000,'ap_lo']/100\n",
    "df_test.loc[df_test.ap_lo>600,'ap_lo']=df_test.loc[df_test.ap_lo>600,'ap_lo']/10\n",
    "df_train.loc[df_train.ap_lo<=10,'ap_lo']=df_train.loc[df_train.ap_lo<=10,'ap_lo']*10\n",
    "df_test.loc[df_test.ap_lo<=10,'ap_lo']=df_test.loc[df_test.ap_lo<=10,'ap_lo']*10\n",
    "\n",
    "df_train.loc[df_train.ap_hi<0,'ap_hi']=-df_train.loc[df_train.ap_hi<0,'ap_hi']\n",
    "df_test.loc[df_test.ap_hi<0,'ap_hi']=-df_test.loc[df_test.ap_hi<0,'ap_hi']\n",
    "\n",
    "df_train.loc[df_train.ap_hi>=10000,'ap_hi']=df_train.loc[df_train.ap_hi>=10000,'ap_hi']/100\n",
    "df_test.loc[df_test.ap_hi>=10000,'ap_hi']=df_test.loc[df_test.ap_hi>=10000,'ap_hi']/100\n",
    "df_train.loc[df_train.ap_hi>=300,'ap_hi']=df_train.loc[df_train.ap_hi>=300,'ap_hi']/10\n",
    "df_test.loc[df_test.ap_hi>=300,'ap_hi']=df_test.loc[df_test.ap_hi>=300,'ap_hi']/10\n",
    "\n",
    "df_train.loc[df_train.ap_hi<30,'ap_hi']=df_train.loc[df_train.ap_hi<30,'ap_hi']*10\n",
    "df_test.loc[df_test.ap_hi<30,'ap_hi']=df_test.loc[df_test.ap_hi<30,'ap_hi']*10\n",
    "\n",
    "correct=df_train.ap_hi<df_train.ap_lo\n",
    "correct_hi=df_train.loc[correct,'ap_hi']\n",
    "correct_lo=df_train.loc[correct,'ap_lo']\n",
    "df_train.loc[correct,'ap_hi']=correct_lo\n",
    "df_train.loc[correct,'ap_lo']=correct_hi\n",
    "\n",
    "correct=df_test.ap_hi<df_test.ap_lo\n",
    "correct_hi=df_test.loc[correct,'ap_hi']\n",
    "correct_lo=df_test.loc[correct,'ap_lo']\n",
    "df_test.loc[correct,'ap_hi']=correct_lo\n",
    "df_test.loc[correct,'ap_lo']=correct_hi"
   ]
  },
  {
   "cell_type": "code",
   "execution_count": 5,
   "metadata": {
    "collapsed": true
   },
   "outputs": [],
   "source": [
    "#df_train['age_year']=np.int16(df_train.age/365)\n",
    "#df_test['age_year']=np.int16(df_test.age/365)\n",
    "#df_train['ap_div']=df_train.ap_lo/df_train.ap_hi\n",
    "#df_test['ap_div']=df_test.ap_lo/df_train.ap_hi\n",
    "#df_train['fat']=df_train.weight/(((df_train.height)/100)**2)\n",
    "#df_test['fat']=df_test.weight/(((df_train.height)/100)**2)\n",
    "#df_train['diff_weight']=50+0.75*(df_train.height-150) + (df_train.age_year-20)/4-df_train.weight\n",
    "#df_test['diff_weight']=50+0.75*(df_test.height-150) + (df_test.age_year-20)/4-df_test.weight\n",
    "#df_train['age_weight']=df_train.age/df_train.weight\n",
    "#df_test['age_weight']=df_test.age/df_test.weight"
   ]
  },
  {
   "cell_type": "code",
   "execution_count": 6,
   "metadata": {
    "collapsed": true
   },
   "outputs": [],
   "source": [
    "df_test.alco=df_test.alco.fillna(0)\n",
    "df_test.smoke=df_test.smoke.fillna(0)\n",
    "df_test.active=df_test.active.fillna(1)\n",
    "features=list(df_train.columns)\n",
    "features.remove('cardio')\n"
   ]
  },
  {
   "cell_type": "code",
   "execution_count": 7,
   "metadata": {
    "collapsed": true
   },
   "outputs": [],
   "source": [
    "xgb_params = {'colsample_bytree': 0.6,\n",
    " 'eval_metric': 'logloss',\n",
    " 'gamma': 0.4,\n",
    " 'learning_rate': 0.02,\n",
    " 'max_depth': 3,\n",
    " 'min_child_weight': 5,\n",
    " 'n_estimators': 1000,\n",
    " 'objective': 'binary:logistic',\n",
    " 'reg_alpha': 0.01,\n",
    " 'seed': 123,\n",
    " 'silent': 1,\n",
    " 'subsample': 0.9}\n",
    "\n",
    "#cvresult = xgb.cv(xgb_params, dtrain, num_boost_round=1000, nfold=5,early_stopping_rounds=50, seed=123)"
   ]
  },
  {
   "cell_type": "code",
   "execution_count": 8,
   "metadata": {
    "collapsed": true
   },
   "outputs": [],
   "source": [
    "def xgb_factory(xgb_params):\n",
    "    return( xgb.XGBClassifier(\n",
    "             learning_rate=xgb_params['learning_rate'],\n",
    "             n_estimators=xgb_params['n_estimators'],\n",
    "             max_depth=xgb_params['max_depth'],\n",
    "             min_child_weight=xgb_params['min_child_weight'],\n",
    "             gamma=xgb_params['gamma'],\n",
    "             subsample=xgb_params['subsample'],\n",
    "             colsample_bytree=xgb_params['colsample_bytree'],\n",
    "             objective=xgb_params['objective'],\n",
    "             nthread=4,\n",
    "             scale_pos_weight=1,\n",
    "             seed=xgb_params['seed']))\n",
    "       "
   ]
  },
  {
   "cell_type": "code",
   "execution_count": 9,
   "metadata": {},
   "outputs": [],
   "source": [
    "from sklearn.cross_validation import StratifiedKFold\n",
    "cv = StratifiedKFold(df_train.cardio, n_folds=3, shuffle=True, random_state=123)"
   ]
  },
  {
   "cell_type": "code",
   "execution_count": 18,
   "metadata": {
    "collapsed": true
   },
   "outputs": [],
   "source": [
    "def makeCV(xgb_params,param_grid):\n",
    "    hyper = xgb_factory(xgb_params)\n",
    "    alg_xgb_grid = GridSearchCV(hyper, param_grid,cv=cv, scoring='neg_log_loss',refit=True, verbose=1, n_jobs=4)\n",
    "    alg_xgb_grid.fit(df_train.loc[:,features],df_train.cardio)\n",
    "    alg_xgb_best = alg_xgb_grid.best_estimator_\n",
    "    print(\"Accuracy (xgboost auto): {} with params {}\"\n",
    "      .format(alg_xgb_grid.best_score_, alg_xgb_grid.best_params_))\n",
    "\n",
    "    return alg_xgb_grid.best_params_\n"
   ]
  },
  {
   "cell_type": "code",
   "execution_count": 19,
   "metadata": {
    "collapsed": true
   },
   "outputs": [],
   "source": [
    "def tuneDepth(xgb_params):\n",
    "    param_grid = {\n",
    "             'max_depth':range(3,5,1),\n",
    "             'min_child_weight':range(5,9,1)\n",
    "    }\n",
    "    best_params=makeCV(xgb_params,param_grid)\n",
    "    xgb_params['max_depth']=best_params['max_depth']\n",
    "    xgb_params['min_child_weight']=best_params['min_child_weight']\n",
    "    return xgb_params\n",
    "\n",
    "def tuneGamma(xgb_params):\n",
    "    param_grid = {\n",
    "         'gamma':[i/10.0 for i in range(0,5)]\n",
    "        }\n",
    "    best_params=makeCV(xgb_params,param_grid)\n",
    "\n",
    "    xgb_params['gamma']=best_params['gamma']\n",
    "    return xgb_params\n",
    "\n",
    "\n",
    "def tuneSample(xgb_params):\n",
    "   \n",
    "    param_grid = {\n",
    "         'subsample':[i/10.0 for i in range(6,10)],\n",
    "         'colsample_bytree':[i/10.0 for i in range(6,10)]\n",
    "        }\n",
    "\n",
    "    best_params=makeCV(xgb_params,param_grid)\n",
    "\n",
    "\n",
    "    xgb_params['subsample']=best_params['subsample']\n",
    "    xgb_params['colsample_bytree']=best_params['colsample_bytree']\n",
    "    return xgb_params\n",
    "\n",
    "def tuneAlpha(xgb_params):\n",
    "   \n",
    "    param_grid = {\n",
    "         'reg_alpha':[0.01, 0.015, 0.02, 0.025]\n",
    "        }\n",
    "    best_params=makeCV(xgb_params,param_grid)\n",
    "    xgb_params['reg_alpha']=best_params['reg_alpha']\n",
    "    return xgb_params\n",
    "\n",
    "def tuneLearn(xgb_params):\n",
    "    param_grid =  {\"n_estimators\": [1000, 1100, 900],\n",
    "        \"learning_rate\": [0.01, 0.02, 0.03]}\n",
    "\n",
    "    best_params=makeCV(xgb_params,param_grid)\n",
    "\n",
    "    xgb_params['n_estimators']=best_params['n_estimators']\n",
    "    xgb_params['learning_rate']=best_params['learning_rate']\n",
    "    return xgb_params"
   ]
  },
  {
   "cell_type": "code",
   "execution_count": 10,
   "metadata": {},
   "outputs": [
    {
     "name": "stdout",
     "output_type": "stream",
     "text": [
      "Fitting 3 folds for each of 15 candidates, totalling 45 fits\n"
     ]
    },
    {
     "name": "stderr",
     "output_type": "stream",
     "text": [
      "[Parallel(n_jobs=4)]: Done  45 out of  45 | elapsed: 13.1min finished\n"
     ]
    },
    {
     "name": "stdout",
     "output_type": "stream",
     "text": [
      "Accuracy (xgboost auto): -0.538897852082 with params {'max_depth': 3, 'min_child_weight': 5}\n"
     ]
    }
   ],
   "source": [
    "from sklearn.model_selection import GridSearchCV\n",
    "\n",
    "#tune max_depth, min_child_weight\n",
    "hyper = xgb_factory(xgb_params)\n",
    "param_grid = {\n",
    "    \n",
    " 'max_depth':range(3,8,1),\n",
    " 'min_child_weight':range(1,6,2)\n",
    "}\n",
    "\n",
    "alg_xgb_grid = GridSearchCV(hyper, param_grid,cv=cv, scoring='neg_log_loss',refit=True, verbose=1, n_jobs=4)\n",
    "alg_xgb_grid.fit(df_train.loc[:,features],df_train.cardio)\n",
    "alg_xgb_best = alg_xgb_grid.best_estimator_\n",
    "print(\"Accuracy (xgboost auto): {} with params {}\"\n",
    "      .format(alg_xgb_grid.best_score_, alg_xgb_grid.best_params_))\n",
    "\n",
    "xgb_params['max_depth']=alg_xgb_grid.best_params_['max_depth']\n",
    "xgb_params['min_child_weight']=alg_xgb_grid.best_params_['min_child_weight']\n",
    "\n",
    "#Accuracy (xgboost auto): -0.540365372589 with params {'max_depth': 3, 'min_child_weight': 5}\n",
    "#Accuracy (xgboost auto): -0.538897852082 with params {'max_depth': 3, 'min_child_weight': 5}"
   ]
  },
  {
   "cell_type": "code",
   "execution_count": 11,
   "metadata": {},
   "outputs": [
    {
     "name": "stdout",
     "output_type": "stream",
     "text": [
      "Fitting 3 folds for each of 5 candidates, totalling 15 fits\n"
     ]
    },
    {
     "name": "stderr",
     "output_type": "stream",
     "text": [
      "[Parallel(n_jobs=4)]: Done  15 out of  15 | elapsed:  3.0min finished\n"
     ]
    },
    {
     "name": "stdout",
     "output_type": "stream",
     "text": [
      "Accuracy (xgboost autтакo): -0.538893119855 with params {'gamma': 0.2}\n"
     ]
    }
   ],
   "source": [
    "#tune gamma\n",
    "hyper = xgb_factory(xgb_params)\n",
    "\n",
    "param_grid2 = {\n",
    " 'gamma':[i/10.0 for i in range(0,5)]\n",
    "}\n",
    "alg_xgb_grid = GridSearchCV(hyper, param_grid2,cv=cv, scoring='neg_log_loss',refit=True, verbose=1, n_jobs=4)\n",
    "alg_xgb_grid.fit(df_train.loc[:,features],df_train.cardio)\n",
    "alg_xgb_best = alg_xgb_grid.best_estimator_\n",
    "print(\"Accuracy (xgboost autтакo): {} with params {}\"\n",
    "      .format(alg_xgb_grid.best_score_, alg_xgb_grid.best_params_))\n",
    "\n",
    "xgb_params['gamma']=alg_xgb_grid.best_params_['gamma']\n",
    "\n",
    "#Accuracy (xgboost autтакo): -0.539870740274 with params {'gamma': 0.4}\n",
    "#Accuracy (xgboost autтакo): -0.538893119855 with params {'gamma': 0.2}"
   ]
  },
  {
   "cell_type": "code",
   "execution_count": 12,
   "metadata": {},
   "outputs": [
    {
     "name": "stdout",
     "output_type": "stream",
     "text": [
      "Fitting 3 folds for each of 16 candidates, totalling 48 fits\n"
     ]
    },
    {
     "name": "stderr",
     "output_type": "stream",
     "text": [
      "[Parallel(n_jobs=4)]: Done  48 out of  48 | elapsed: 10.6min finished\n"
     ]
    },
    {
     "name": "stdout",
     "output_type": "stream",
     "text": [
      "Accuracy (xgboost auto): -0.538893119855 with params {'subsample': 0.9, 'colsample_bytree': 0.6}\n"
     ]
    }
   ],
   "source": [
    "hyper = xgb_factory(xgb_params)\n",
    "\n",
    "param_grid3 = {\n",
    " 'subsample':[i/10.0 for i in range(6,10)],\n",
    " 'colsample_bytree':[i/10.0 for i in range(6,10)]\n",
    "}\n",
    "\n",
    "alg_xgb_grid = GridSearchCV(hyper, param_grid3,cv=cv, scoring='neg_log_loss',refit=True, verbose=1, n_jobs=4)\n",
    "alg_xgb_grid.fit(df_train.loc[:,features],df_train.cardio)\n",
    "alg_xgb_best = alg_xgb_grid.best_estimator_\n",
    "print(\"Accuracy (xgboost auto): {} with params {}\"\n",
    "      .format(alg_xgb_grid.best_score_, alg_xgb_grid.best_params_))\n",
    "\n",
    "xgb_params['subsample']=alg_xgb_grid.best_params_['subsample']\n",
    "xgb_params['colsample_bytree']=alg_xgb_grid.best_params_['colsample_bytree']\n",
    "\n",
    "#Accuracy (xgboost auto): -0.540194133887 with params {'subsample': 0.9, 'colsample_bytree': 0.6}\n",
    "#Accuracy (xgboost auto): -0.538893119855 with params {'subsample': 0.9, 'colsample_bytree': 0.6}"
   ]
  },
  {
   "cell_type": "code",
   "execution_count": 13,
   "metadata": {},
   "outputs": [
    {
     "name": "stdout",
     "output_type": "stream",
     "text": [
      "Fitting 3 folds for each of 5 candidates, totalling 15 fits\n"
     ]
    },
    {
     "name": "stderr",
     "output_type": "stream",
     "text": [
      "[Parallel(n_jobs=4)]: Done  15 out of  15 | elapsed:  3.1min finished\n"
     ]
    },
    {
     "name": "stdout",
     "output_type": "stream",
     "text": [
      "Accuracy (xgboost auto): -0.538888944809 with params {'reg_alpha': 0.01}\n"
     ]
    }
   ],
   "source": [
    "hyper = xgb_factory(xgb_params)\n",
    "param_grid4 = {\n",
    " 'reg_alpha':[0, 0.001, 0.005, 0.01, 0.05]\n",
    "}\n",
    "\n",
    "alg_xgb_grid = GridSearchCV(hyper, param_grid4,cv=cv, scoring='neg_log_loss',refit=True, verbose=1, n_jobs=4)\n",
    "alg_xgb_grid.fit(df_train.loc[:,features],df_train.cardio)\n",
    "alg_xgb_best = alg_xgb_grid.best_estimator_\n",
    "print(\"Accuracy (xgboost auto): {} with params {}\"\n",
    "      .format(alg_xgb_grid.best_score_, alg_xgb_grid.best_params_))\n",
    "\n",
    "xgb_params['reg_alpha']=alg_xgb_grid.best_params_['reg_alpha']\n",
    "\n",
    "#Accuracy (xgboost auto): -0.5401745397 with params {'reg_alpha': 0.01}\n",
    "#ccuracy (xgboost auto): -0.538888944809 with params {'reg_alpha': 0.01}"
   ]
  },
  {
   "cell_type": "code",
   "execution_count": 16,
   "metadata": {},
   "outputs": [
    {
     "name": "stdout",
     "output_type": "stream",
     "text": [
      "Fitting 3 folds for each of 9 candidates, totalling 27 fits\n"
     ]
    },
    {
     "name": "stderr",
     "output_type": "stream",
     "text": [
      "[Parallel(n_jobs=4)]: Done  27 out of  27 | elapsed: 10.6min finished\n"
     ]
    },
    {
     "name": "stdout",
     "output_type": "stream",
     "text": [
      "Accuracy (xgboost auto): -0.538893119855 with params {'n_estimators': 1000, 'learning_rate': 0.02}\n"
     ]
    }
   ],
   "source": [
    "param_grid4 =  {\"n_estimators\": [1000, 2000, 3000],\n",
    "    \"learning_rate\": [0.01, 0.02, 0.05]}\n",
    "\n",
    "alg_xgb_grid = GridSearchCV(hyper, param_grid4,cv=cv, scoring='neg_log_loss',refit=True, verbose=1, n_jobs=4)\n",
    "alg_xgb_grid.fit(df_train.loc[:,features],df_train.cardio)\n",
    "alg_xgb_best = alg_xgb_grid.best_estimator_\n",
    "print(\"Accuracy (xgboost auto): {} with params {}\"\n",
    "      .format(alg_xgb_grid.best_score_, alg_xgb_grid.best_params_))\n",
    "\n",
    "xgb_params['n_estimators']=alg_xgb_grid.best_params_['n_estimators']\n",
    "xgb_params['learning_rate']=alg_xgb_grid.best_params_['learning_rate']\n",
    "\n",
    "#Accuracy (xgboost auto): -0.538893119855 with params {'n_estimators': 1000, 'learning_rate': 0.02}"
   ]
  },
  {
   "cell_type": "code",
   "execution_count": null,
   "metadata": {
    "collapsed": true
   },
   "outputs": [],
   "source": [
    "hyper = xgb_factory(xgb_params)\n"
   ]
  },
  {
   "cell_type": "code",
   "execution_count": null,
   "metadata": {
    "collapsed": true
   },
   "outputs": [],
   "source": [
    "kfold = KFold(n_splits=10, random_state=7)\n",
    "#results = cross_val_score(hyper, df_train.loc[:,features], df_train.cardio, cv=kfold,scoring='neg_log_loss',n_jobs=-1)\n",
    "results = cross_val_score(hyper, df_train.loc[:,features], df_train.cardio, cv=kfold,scoring='neg_log_loss',n_jobs=-1)\n",
    "print results.mean(),results.std()\n",
    "\n",
    "fit=hyper.fit(df_train.loc[:,features],df_train.cardio,eval_metric='logloss')\n",
    "\n",
    "#model = xgb.train(xgb_params,dtrain_all, num_boost_round=num_boost_round)\n",
    "#pred = model.predict(dtest)\n",
    "pred = fit.predict_proba(df_test.loc[:,features])[:,1]"
   ]
  },
  {
   "cell_type": "code",
   "execution_count": null,
   "metadata": {
    "collapsed": true
   },
   "outputs": [],
   "source": [
    "feat_imp = pd.Series(hyper.booster().get_fscore()).sort_values(ascending=False)\n",
    "feat_imp.plot(kind='bar', title='Feature Importances')\n",
    "plt.ylabel('Feature Importance Score')\n",
    "plt.show()"
   ]
  },
  {
   "cell_type": "code",
   "execution_count": null,
   "metadata": {
    "collapsed": true
   },
   "outputs": [],
   "source": [
    "res=pd.DataFrame({'cardio':pred},columns=['id','cardio'])\n",
    "res.cardio.to_csv(location+'submission.csv',index=False,header=False)"
   ]
  },
  {
   "cell_type": "code",
   "execution_count": 17,
   "metadata": {
    "scrolled": true
   },
   "outputs": [
    {
     "data": {
      "text/plain": [
       "{'colsample_bytree': 0.6,\n",
       " 'eval_metric': 'logloss',\n",
       " 'gamma': 0.2,\n",
       " 'learning_rate': 0.02,\n",
       " 'max_depth': 3,\n",
       " 'min_child_weight': 5,\n",
       " 'n_estimators': 1000,\n",
       " 'objective': 'binary:logistic',\n",
       " 'reg_alpha': 0.01,\n",
       " 'seed': 123,\n",
       " 'silent': 1,\n",
       " 'subsample': 0.9}"
      ]
     },
     "execution_count": 17,
     "metadata": {},
     "output_type": "execute_result"
    }
   ],
   "source": [
    "xgb_params"
   ]
  },
  {
   "cell_type": "code",
   "execution_count": null,
   "metadata": {
    "collapsed": true
   },
   "outputs": [],
   "source": [
    "xgb_params={'colsample_bytree': 0.6,\n",
    " 'eval_metric': 'logloss',\n",
    " 'gamma': 0.2,\n",
    " 'learning_rate': 0.02,\n",
    " 'max_depth': 3,\n",
    " 'min_child_weight': 5,\n",
    " 'n_estimators': 1000,\n",
    " 'objective': 'binary:logistic',\n",
    " 'reg_alpha': 0.01,\n",
    " 'seed': 123,\n",
    " 'silent': 1,\n",
    " 'subsample': 0.9}"
   ]
  },
  {
   "cell_type": "code",
   "execution_count": null,
   "metadata": {},
   "outputs": [],
   "source": []
  },
  {
   "cell_type": "code",
   "execution_count": 20,
   "metadata": {},
   "outputs": [
    {
     "name": "stdout",
     "output_type": "stream",
     "text": [
      "Fitting 3 folds for each of 9 candidates, totalling 27 fits\n"
     ]
    },
    {
     "name": "stderr",
     "output_type": "stream",
     "text": [
      "[Parallel(n_jobs=4)]: Done  27 out of  27 | elapsed:  6.6min finished\n"
     ]
    },
    {
     "name": "stdout",
     "output_type": "stream",
     "text": [
      "Accuracy (xgboost auto): -0.538830822235 with params {'max_depth': 3, 'min_child_weight': 7}\n",
      "Fitting 3 folds for each of 5 candidates, totalling 15 fits\n"
     ]
    },
    {
     "name": "stderr",
     "output_type": "stream",
     "text": [
      "[Parallel(n_jobs=4)]: Done  15 out of  15 | elapsed:  3.0min finished\n"
     ]
    },
    {
     "name": "stdout",
     "output_type": "stream",
     "text": [
      "Accuracy (xgboost auto): -0.538824325743 with params {'gamma': 0.1}\n",
      "Fitting 3 folds for each of 16 candidates, totalling 48 fits\n"
     ]
    },
    {
     "name": "stderr",
     "output_type": "stream",
     "text": [
      "[Parallel(n_jobs=4)]: Done  48 out of  48 | elapsed: 10.7min finished\n"
     ]
    },
    {
     "name": "stdout",
     "output_type": "stream",
     "text": [
      "Accuracy (xgboost auto): -0.538824325743 with params {'subsample': 0.9, 'colsample_bytree': 0.6}\n",
      "Fitting 3 folds for each of 4 candidates, totalling 12 fits\n"
     ]
    },
    {
     "name": "stderr",
     "output_type": "stream",
     "text": [
      "[Parallel(n_jobs=4)]: Done  12 out of  12 | elapsed:  2.4min finished\n"
     ]
    },
    {
     "name": "stdout",
     "output_type": "stream",
     "text": [
      "Accuracy (xgboost auto): -0.538819940798 with params {'reg_alpha': 0.015}\n",
      "Fitting 3 folds for each of 9 candidates, totalling 27 fits\n"
     ]
    },
    {
     "name": "stderr",
     "output_type": "stream",
     "text": [
      "[Parallel(n_jobs=4)]: Done  27 out of  27 | elapsed:  5.2min finished\n"
     ]
    },
    {
     "name": "stdout",
     "output_type": "stream",
     "text": [
      "Accuracy (xgboost auto): -0.538820655103 with params {'n_estimators': 900, 'learning_rate': 0.02}\n"
     ]
    }
   ],
   "source": [
    "xgb_params=tuneDepth(xgb_params)\n",
    "xgb_params=tuneGamma(xgb_params)\n",
    "xgb_params=tuneSample(xgb_params)\n",
    "xgb_params=tuneAlpha(xgb_params)\n",
    "xgb_params=tuneLearn(xgb_params)\n"
   ]
  },
  {
   "cell_type": "code",
   "execution_count": 22,
   "metadata": {},
   "outputs": [
    {
     "data": {
      "text/plain": [
       "{'colsample_bytree': 0.6,\n",
       " 'eval_metric': 'logloss',\n",
       " 'gamma': 0.1,\n",
       " 'learning_rate': 0.02,\n",
       " 'max_depth': 3,\n",
       " 'min_child_weight': 7,\n",
       " 'n_estimators': 900,\n",
       " 'objective': 'binary:logistic',\n",
       " 'reg_alpha': 0.015,\n",
       " 'seed': 123,\n",
       " 'silent': 1,\n",
       " 'subsample': 0.9}"
      ]
     },
     "execution_count": 22,
     "metadata": {},
     "output_type": "execute_result"
    }
   ],
   "source": [
    "xgb_params"
   ]
  },
  {
   "cell_type": "code",
   "execution_count": null,
   "metadata": {
    "collapsed": true
   },
   "outputs": [],
   "source": []
  }
 ],
 "metadata": {
  "kernelspec": {
   "display_name": "Python 2",
   "language": "python",
   "name": "python2"
  },
  "language_info": {
   "codemirror_mode": {
    "name": "ipython",
    "version": 2
   },
   "file_extension": ".py",
   "mimetype": "text/x-python",
   "name": "python",
   "nbconvert_exporter": "python",
   "pygments_lexer": "ipython2",
   "version": "2.7.13"
  }
 },
 "nbformat": 4,
 "nbformat_minor": 2
}
