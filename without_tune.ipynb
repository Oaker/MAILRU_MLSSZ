{
 "cells": [
  {
   "cell_type": "code",
   "execution_count": 1,
   "metadata": {},
   "outputs": [
    {
     "name": "stderr",
     "output_type": "stream",
     "text": [
      "C:\\Anaconda\\lib\\site-packages\\sklearn\\cross_validation.py:44: DeprecationWarning: This module was deprecated in version 0.18 in favor of the model_selection module into which all the refactored classes and functions are moved. Also note that the interface of the new CV iterators are different from that of this module. This module will be removed in 0.20.\n",
      "  \"This module will be removed in 0.20.\", DeprecationWarning)\n"
     ]
    }
   ],
   "source": [
    "import numpy as np\n",
    "import pandas as pd\n",
    "import matplotlib.pyplot as plt\n",
    "from sklearn.model_selection import train_test_split\n",
    "from sklearn.linear_model import LogisticRegression\n",
    "import xgboost as xgb\n",
    "from sklearn.metrics import log_loss\n",
    "from xgboost.sklearn import XGBClassifier\n",
    "from sklearn.ensemble import RandomForestClassifier"
   ]
  },
  {
   "cell_type": "code",
   "execution_count": 2,
   "metadata": {
    "collapsed": true
   },
   "outputs": [],
   "source": [
    "location=\"D:\\s_chernov\\AnacondaProjects\\MLSSZ\\Data\\\\\"\n",
    "df_train = pd.read_csv(location+\"train.csv\",sep=';',na_values=\"None\")\n",
    "df_test = pd.read_csv(location+\"test.csv\",sep=';',na_values=\"None\")"
   ]
  },
  {
   "cell_type": "code",
   "execution_count": 3,
   "metadata": {
    "collapsed": true
   },
   "outputs": [],
   "source": [
    "del df_train['id']"
   ]
  },
  {
   "cell_type": "code",
   "execution_count": 4,
   "metadata": {
    "collapsed": true
   },
   "outputs": [],
   "source": [
    "def make_dummies(source,var_name):\n",
    "    for i in var_name:\n",
    "        dummies = pd.get_dummies(source[i])\n",
    "        source=pd.concat([source,dummies],axis=1)\n",
    "    return source.drop(var_name,axis=1)    \n",
    "\n",
    "#df_train.cholesterol=df_train.cholesterol*10\n",
    "#df_test.cholesterol=df_train.cholesterol*10\n",
    "#train_lin=make_dummies(df_train,['cholesterol','gluc'])\n",
    "#test_lin=make_dummies(df_test,['cholesterol','gluc'])\n"
   ]
  },
  {
   "cell_type": "code",
   "execution_count": null,
   "metadata": {},
   "outputs": [],
   "source": []
  },
  {
   "cell_type": "code",
   "execution_count": null,
   "metadata": {
    "collapsed": true
   },
   "outputs": [],
   "source": []
  },
  {
   "cell_type": "code",
   "execution_count": 5,
   "metadata": {},
   "outputs": [],
   "source": [
    "np.random.seed(2707)\n",
    "\n",
    "train_lin=np.int16(df_train.loc[:,['smoke','alco','cholesterol','gluc','active']].fillna(0))\n",
    "test_lin=np.int16(df_test.loc[:,['smoke','alco','cholesterol','gluc','active']].fillna(0))\n",
    "#clf = RandomForestClassifier(n_estimators=500)\n",
    "#clf.fit(train_lin,df_train.cardio)\n",
    "#df_train['rf1']=clf.predict_proba(train_lin)[:,1]\n",
    "#df_test['rf1']=clf.predict_proba(test_lin)[:,1]\n"
   ]
  },
  {
   "cell_type": "code",
   "execution_count": 6,
   "metadata": {
    "collapsed": true
   },
   "outputs": [],
   "source": [
    "df_train['age_year']=np.int16(df_train.age/365)\n",
    "df_test['age_year']=np.int16(df_test.age/365)\n"
   ]
  },
  {
   "cell_type": "code",
   "execution_count": 7,
   "metadata": {
    "collapsed": true
   },
   "outputs": [],
   "source": [
    "df_train.loc[df_train.weight<20,'weight']=df_train.loc[df_train.weight<20,'weight']*10\n",
    "df_test.loc[df_test.weight<20,'weight']=df_test.loc[df_test.weight<20,'weight']*10\n",
    "df_train.loc[df_train.height<100,'height']=df_train.loc[df_train.height<100,'height']*10\n",
    "df_test.loc[df_test.height<100,'height']=df_test.loc[df_test.height<100,'height']*10"
   ]
  },
  {
   "cell_type": "code",
   "execution_count": 8,
   "metadata": {},
   "outputs": [],
   "source": [
    "#height and weight errors\n",
    "correct=df_train.weight>df_train.height\n",
    "correct_weight=df_train.loc[correct,'weight']\n",
    "correct_height=df_train.loc[correct,'height']\n",
    "df_train.loc[correct,'weight']=correct_height\n",
    "df_train.loc[correct,'height']=correct_weight\n",
    "\n",
    "correct=df_test.weight>df_test.height\n",
    "correct_weight=df_test.loc[correct,'weight']\n",
    "correct_height=df_test.loc[correct,'height']\n",
    "df_test.loc[correct,'weight']=correct_height\n",
    "df_test.loc[correct,'height']=correct_weight\n"
   ]
  },
  {
   "cell_type": "code",
   "execution_count": 9,
   "metadata": {},
   "outputs": [],
   "source": [
    "df_train.loc[df_train.ap_lo<0,'ap_lo']=-df_train.loc[df_train.ap_lo<0,'ap_lo']\n",
    "df_test.loc[df_test.ap_lo<0,'ap_lo']=-df_test.loc[df_test.ap_lo<0,'ap_lo']\n",
    "\n",
    "df_train.loc[df_train.ap_lo>6000,'ap_lo']=df_train.loc[df_train.ap_lo>6000,'ap_lo']/100\n",
    "df_train.loc[df_train.ap_lo>600,'ap_lo']=df_train.loc[df_train.ap_lo>600,'ap_lo']/10\n",
    "df_test.loc[df_test.ap_lo>6000,'ap_lo']=df_test.loc[df_test.ap_lo>6000,'ap_lo']/100\n",
    "df_test.loc[df_test.ap_lo>600,'ap_lo']=df_test.loc[df_test.ap_lo>600,'ap_lo']/10\n",
    "df_train.loc[df_train.ap_lo<=10,'ap_lo']=df_train.loc[df_train.ap_lo<=10,'ap_lo']*10\n",
    "df_test.loc[df_test.ap_lo<=10,'ap_lo']=df_test.loc[df_test.ap_lo<=10,'ap_lo']*10\n",
    "\n"
   ]
  },
  {
   "cell_type": "code",
   "execution_count": 10,
   "metadata": {
    "collapsed": true
   },
   "outputs": [],
   "source": [
    "df_train.loc[df_train.ap_hi<0,'ap_hi']=-df_train.loc[df_train.ap_hi<0,'ap_hi']\n",
    "df_test.loc[df_test.ap_hi<0,'ap_hi']=-df_test.loc[df_test.ap_hi<0,'ap_hi']\n",
    "\n",
    "df_train.loc[df_train.ap_hi>=10000,'ap_hi']=df_train.loc[df_train.ap_hi>=10000,'ap_hi']/100\n",
    "df_test.loc[df_test.ap_hi>=10000,'ap_hi']=df_test.loc[df_test.ap_hi>=10000,'ap_hi']/100\n",
    "df_train.loc[df_train.ap_hi>=300,'ap_hi']=df_train.loc[df_train.ap_hi>=300,'ap_hi']/10\n",
    "df_test.loc[df_test.ap_hi>=300,'ap_hi']=df_test.loc[df_test.ap_hi>=300,'ap_hi']/10\n",
    "\n",
    "df_train.loc[df_train.ap_hi<30,'ap_hi']=df_train.loc[df_train.ap_hi<30,'ap_hi']*10\n",
    "df_test.loc[df_test.ap_hi<30,'ap_hi']=df_test.loc[df_test.ap_hi<30,'ap_hi']*10"
   ]
  },
  {
   "cell_type": "code",
   "execution_count": 11,
   "metadata": {},
   "outputs": [],
   "source": [
    "correct=df_train.ap_hi<df_train.ap_lo\n",
    "correct_hi=df_train.loc[correct,'ap_hi']\n",
    "correct_lo=df_train.loc[correct,'ap_lo']\n",
    "df_train.loc[correct,'ap_hi']=correct_lo\n",
    "df_train.loc[correct,'ap_lo']=correct_hi\n",
    "\n",
    "correct=df_test.ap_hi<df_test.ap_lo\n",
    "correct_hi=df_test.loc[correct,'ap_hi']\n",
    "correct_lo=df_test.loc[correct,'ap_lo']\n",
    "df_test.loc[correct,'ap_hi']=correct_lo\n",
    "df_test.loc[correct,'ap_lo']=correct_hi\n",
    "\n",
    "#df_train['ap_div']=df_train.ap_lo/df_train.ap_hi\n",
    "#df_test['ap_div']=df_test.ap_lo/df_train.ap_hi\n"
   ]
  },
  {
   "cell_type": "code",
   "execution_count": 12,
   "metadata": {},
   "outputs": [],
   "source": [
    "#plt.hist((df_train.ap_div),100)\n",
    "#plt.show()"
   ]
  },
  {
   "cell_type": "code",
   "execution_count": 13,
   "metadata": {
    "collapsed": true
   },
   "outputs": [],
   "source": [
    "df_test.alco=df_test.alco.fillna(0)\n",
    "df_test.smoke=df_test.smoke.fillna(0)\n",
    "df_test.active=df_test.active.fillna(1)\n",
    "\n",
    "\n",
    "#df_train['health']=np.log(df_train.cholesterol*df_train.gluc+df_train.alco*2+df_train.smoke*5+df_train.alco*df_train.smoke*10)\n",
    "#df_test['health']=np.log(df_test.cholesterol*df_test.gluc+df_test.alco*2+df_test.smoke*5+df_train.alco*df_train.smoke*10)\n",
    "#df_train['health']=np.log(df_train.cholesterol*df_train.gluc*10+df_train.alco*df_train.smoke*10+df_train.cholesterol*df_train.gluc*df_train.alco*5)\n",
    "#df_test['health']=np.log(df_train.cholesterol*df_train.gluc*10+df_train.alco*df_train.smoke*10+df_train.cholesterol*df_train.gluc*df_train.alco*5)\n",
    "\n"
   ]
  },
  {
   "cell_type": "code",
   "execution_count": 14,
   "metadata": {},
   "outputs": [],
   "source": [
    "features=list(df_train.columns)\n",
    "features.remove('cardio')\n",
    "df_train['fat']=df_train.weight/(((df_train.height)/100)**2)\n",
    "df_test['fat']=df_test.weight/(((df_train.height)/100)**2)\n",
    "df_train['diff_weight']=50+0.75*(df_train.height-150) + (df_train.age_year-20)/4-df_train.weight\n",
    "df_test['diff_weight']=50+0.75*(df_test.height-150) + (df_test.age_year-20)/4-df_test.weight\n",
    "df_train['age_weight']=df_train.age_year/df_train.weight\n",
    "df_test['age_weight']=df_test.age_year/df_test.weight\n",
    "df_train.age_year=(df_train.age_year)**2\n",
    "df_test.age_year=(df_test.age_year)**2\n",
    "\n",
    "features.remove('age_year')\n",
    "#features.append('diff_weight')\n",
    "#features.append('fat')\n",
    "#features.append('age_weight')"
   ]
  },
  {
   "cell_type": "code",
   "execution_count": 15,
   "metadata": {},
   "outputs": [],
   "source": [
    "np.random.seed(2707)\n",
    "train_lin=np.int16(df_train.loc[:,df_test.columns])\n",
    "test_lin=np.int16(df_test.loc[:,df_test.columns])\n",
    "\n",
    "clf = RandomForestClassifier(n_estimators=500)\n",
    "clf.fit(train_lin,df_train.cardio)\n",
    "\n",
    "#df_train['rf2']=clf.predict_proba(train_lin)[:,1]\n",
    "df_test['rf2']=clf.predict_proba(test_lin)[:,1]\n",
    "#features.append('rf2')"
   ]
  },
  {
   "cell_type": "code",
   "execution_count": 16,
   "metadata": {
    "collapsed": true
   },
   "outputs": [],
   "source": [
    "#x_train, x_test, y_train, y_test = train_test_split(df_train.loc[:,features], df_train.cardio, test_size=0.3, random_state=123)"
   ]
  },
  {
   "cell_type": "code",
   "execution_count": 17,
   "metadata": {
    "collapsed": true
   },
   "outputs": [],
   "source": [
    "xgb_params = {'colsample_bytree': 0.6,\n",
    " 'eval_metric': 'logloss',\n",
    " 'gamma': 0.4,\n",
    " 'learning_rate': 0.01,\n",
    " 'max_depth': 3,\n",
    " 'min_child_weight': 5,\n",
    " 'n_estimators': 2000,\n",
    " 'objective': 'binary:logistic',\n",
    " 'reg_alpha': 0.001,\n",
    " 'seed': 123,\n",
    " 'silent': 1,\n",
    " 'subsample': 0.9}\n",
    "\n",
    "#cvresult = xgb.cv(xgb_params, dtrain, num_boost_round=1000, nfold=5,early_stopping_rounds=50, seed=123)"
   ]
  },
  {
   "cell_type": "markdown",
   "metadata": {},
   "source": [
    "# hyper = xgb.XGBClassifier(\n",
    " learning_rate=xgb_params['learning_rate'],\n",
    " n_estimators=xgb_params['n_estimators'],\n",
    " max_depth=xgb_params['max_depth'],\n",
    " min_child_weight=xgb_params['min_child_weight'],\n",
    " gamma=xgb_params['gamma'],\n",
    " subsample=xgb_params['subsample'],\n",
    " colsample_bytree=xgb_params['colsample_bytree'],\n",
    " objective=xgb_params['objective'],\n",
    " nthread=4,\n",
    " scale_pos_weight=1,\n",
    " seed=xgb_params['seed'])\n",
    "\n",
    "\n",
    "fit=hyper.fit(x_train,y_train,eval_metric='logloss')\n"
   ]
  },
  {
   "cell_type": "markdown",
   "metadata": {},
   "source": [
    "# pred = fit.predict_proba(x_test)[:,1]\n",
    "print '________________'\n",
    "print log_loss (y_test,pred)\n",
    "pred\n"
   ]
  },
  {
   "cell_type": "code",
   "execution_count": null,
   "metadata": {},
   "outputs": [],
   "source": [
    "from sklearn.model_selection import KFold\n",
    "from sklearn.model_selection import cross_val_score\n",
    "\n",
    "\n",
    "model=hyper.fit(df_train.loc[:,features],df_train.cardio,eval_metric='logloss')\n",
    "kfold = KFold(n_splits=10, random_state=7)\n",
    "results = cross_val_score(hyper, df_train.loc[:,features], df_train.cardio, cv=kfold,scoring='neg_log_loss',n_jobs=-1)\n",
    "pred = fit.predict_proba(df_test.loc[:,features])[:,1]\n"
   ]
  },
  {
   "cell_type": "code",
   "execution_count": null,
   "metadata": {
    "collapsed": true
   },
   "outputs": [],
   "source": [
    "\n",
    "feat_imp = pd.Series(fit.booster().get_fscore()).sort_values(ascending=False)\n",
    "feat_imp.plot(kind='bar', title='Feature Importances')\n",
    "plt.ylabel('Feature Importance Score')\n",
    "plt.show()"
   ]
  },
  {
   "cell_type": "code",
   "execution_count": null,
   "metadata": {},
   "outputs": [],
   "source": [
    "pred=map(lambda x,y: (x+y)/2,pred,df_test.rf2.values)"
   ]
  },
  {
   "cell_type": "code",
   "execution_count": null,
   "metadata": {
    "collapsed": true
   },
   "outputs": [],
   "source": [
    "res=pd.DataFrame({'cardio':pred},columns=['id','cardio'])\n",
    "res.cardio.to_csv(location+'submission.csv',index=False,header=False)"
   ]
  },
  {
   "cell_type": "code",
   "execution_count": null,
   "metadata": {},
   "outputs": [],
   "source": [
    "xgb_params"
   ]
  },
  {
   "cell_type": "code",
   "execution_count": null,
   "metadata": {},
   "outputs": [],
   "source": [
    "#plt.hist(np.log(df_train.cholesterol*df_train.gluc+df_train.alco*2+df_train.smoke*10),100)\n",
    "#]\n",
    "\n",
    "plt.show()\n"
   ]
  },
  {
   "cell_type": "code",
   "execution_count": null,
   "metadata": {
    "collapsed": true
   },
   "outputs": [],
   "source": []
  }
 ],
 "metadata": {
  "kernelspec": {
   "display_name": "Python 2",
   "language": "python",
   "name": "python2"
  },
  "language_info": {
   "codemirror_mode": {
    "name": "ipython",
    "version": 2
   },
   "file_extension": ".py",
   "mimetype": "text/x-python",
   "name": "python",
   "nbconvert_exporter": "python",
   "pygments_lexer": "ipython2",
   "version": "2.7.13"
  }
 },
 "nbformat": 4,
 "nbformat_minor": 2
}
