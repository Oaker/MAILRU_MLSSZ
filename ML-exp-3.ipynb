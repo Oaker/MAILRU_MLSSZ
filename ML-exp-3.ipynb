{
 "cells": [
  {
   "cell_type": "code",
   "execution_count": 1,
   "metadata": {},
   "outputs": [
    {
     "name": "stderr",
     "output_type": "stream",
     "text": [
      "C:\\Anaconda\\lib\\site-packages\\sklearn\\cross_validation.py:44: DeprecationWarning: This module was deprecated in version 0.18 in favor of the model_selection module into which all the refactored classes and functions are moved. Also note that the interface of the new CV iterators are different from that of this module. This module will be removed in 0.20.\n",
      "  \"This module will be removed in 0.20.\", DeprecationWarning)\n"
     ]
    }
   ],
   "source": [
    "import numpy as np\n",
    "import pandas as pd\n",
    "import matplotlib.pyplot as plt\n",
    "#from sklearn.model_selection import train_test_split\n",
    "#from sklearn.linear_model import LogisticRegression\n",
    "import xgboost as xgb\n",
    "from sklearn.metrics import log_loss\n",
    "from xgboost.sklearn import XGBClassifier\n",
    "from sklearn.cross_validation import StratifiedKFold\n",
    "from sklearn.model_selection import KFold\n",
    "from sklearn.model_selection import cross_val_score\n",
    "from sklearn.model_selection import GridSearchCV\n"
   ]
  },
  {
   "cell_type": "code",
   "execution_count": 2,
   "metadata": {
    "collapsed": true
   },
   "outputs": [],
   "source": [
    "location=\"D:\\s_chernov\\AnacondaProjects\\MLSSZ\\Data\\\\\"\n",
    "df_train = pd.read_csv(location+\"train.csv\",sep=';',na_values=\"None\")\n",
    "df_test = pd.read_csv(location+\"test.csv\",sep=';',na_values=\"None\")"
   ]
  },
  {
   "cell_type": "code",
   "execution_count": 3,
   "metadata": {
    "collapsed": true
   },
   "outputs": [],
   "source": [
    "del df_train['id']\n"
   ]
  },
  {
   "cell_type": "code",
   "execution_count": 4,
   "metadata": {
    "collapsed": true
   },
   "outputs": [],
   "source": [
    "df_train['age_year']=np.int16(df_train.age/365)\n",
    "df_test['age_year']=np.int16(df_test.age/365)\n",
    "df_train.loc[df_train.weight<20,'weight']=df_train.loc[df_train.weight<20,'weight']*10\n",
    "df_test.loc[df_test.weight<20,'weight']=df_test.loc[df_test.weight<20,'weight']*10\n",
    "df_train.loc[df_train.height<100,'height']=df_train.loc[df_train.height<100,'height']*10\n",
    "df_test.loc[df_test.height<100,'height']=df_test.loc[df_test.height<100,'height']*10\n",
    "#height and weight errors\n",
    "correct=df_train.weight>df_train.height\n",
    "correct_weight=df_train.loc[correct,'weight']\n",
    "correct_height=df_train.loc[correct,'height']\n",
    "df_train.loc[correct,'weight']=correct_height\n",
    "df_train.loc[correct,'height']=correct_weight\n",
    "\n",
    "correct=df_test.weight>df_test.height\n",
    "correct_weight=df_test.loc[correct,'weight']\n",
    "correct_height=df_test.loc[correct,'height']\n",
    "df_test.loc[correct,'weight']=correct_height\n",
    "df_test.loc[correct,'height']=correct_weight\n",
    "\n",
    "#____ap_lo and ap_hi\n",
    "df_train.loc[df_train.ap_lo<0,'ap_lo']=-df_train.loc[df_train.ap_lo<0,'ap_lo']\n",
    "df_test.loc[df_test.ap_lo<0,'ap_lo']=-df_test.loc[df_test.ap_lo<0,'ap_lo']\n",
    "\n",
    "df_train.loc[df_train.ap_lo>6000,'ap_lo']=df_train.loc[df_train.ap_lo>6000,'ap_lo']/100\n",
    "df_train.loc[df_train.ap_lo>600,'ap_lo']=df_train.loc[df_train.ap_lo>600,'ap_lo']/10\n",
    "df_test.loc[df_test.ap_lo>6000,'ap_lo']=df_test.loc[df_test.ap_lo>6000,'ap_lo']/100\n",
    "df_test.loc[df_test.ap_lo>600,'ap_lo']=df_test.loc[df_test.ap_lo>600,'ap_lo']/10\n",
    "df_train.loc[df_train.ap_lo<=10,'ap_lo']=df_train.loc[df_train.ap_lo<=10,'ap_lo']*10\n",
    "df_test.loc[df_test.ap_lo<=10,'ap_lo']=df_test.loc[df_test.ap_lo<=10,'ap_lo']*10\n",
    "\n",
    "df_train.loc[df_train.ap_hi<0,'ap_hi']=-df_train.loc[df_train.ap_hi<0,'ap_hi']\n",
    "df_test.loc[df_test.ap_hi<0,'ap_hi']=-df_test.loc[df_test.ap_hi<0,'ap_hi']\n",
    "\n",
    "df_train.loc[df_train.ap_hi>=10000,'ap_hi']=df_train.loc[df_train.ap_hi>=10000,'ap_hi']/100\n",
    "df_test.loc[df_test.ap_hi>=10000,'ap_hi']=df_test.loc[df_test.ap_hi>=10000,'ap_hi']/100\n",
    "df_train.loc[df_train.ap_hi>=300,'ap_hi']=df_train.loc[df_train.ap_hi>=300,'ap_hi']/10\n",
    "df_test.loc[df_test.ap_hi>=300,'ap_hi']=df_test.loc[df_test.ap_hi>=300,'ap_hi']/10\n",
    "\n",
    "df_train.loc[df_train.ap_hi<30,'ap_hi']=df_train.loc[df_train.ap_hi<30,'ap_hi']*10\n",
    "df_test.loc[df_test.ap_hi<30,'ap_hi']=df_test.loc[df_test.ap_hi<30,'ap_hi']*10\n",
    "\n",
    "correct=df_train.ap_hi<df_train.ap_lo\n",
    "correct_hi=df_train.loc[correct,'ap_hi']\n",
    "correct_lo=df_train.loc[correct,'ap_lo']\n",
    "df_train.loc[correct,'ap_hi']=correct_lo\n",
    "df_train.loc[correct,'ap_lo']=correct_hi\n",
    "\n",
    "correct=df_test.ap_hi<df_test.ap_lo\n",
    "correct_hi=df_test.loc[correct,'ap_hi']\n",
    "correct_lo=df_test.loc[correct,'ap_lo']\n",
    "df_test.loc[correct,'ap_hi']=correct_lo\n",
    "df_test.loc[correct,'ap_lo']=correct_hi"
   ]
  },
  {
   "cell_type": "code",
   "execution_count": 5,
   "metadata": {
    "collapsed": true
   },
   "outputs": [],
   "source": [
    "#df_train['age_year']=np.int16(df_train.age/365)\n",
    "#df_test['age_year']=np.int16(df_test.age/365)\n",
    "#df_train['ap_div']=df_train.ap_lo/df_train.ap_hi\n",
    "#df_test['ap_div']=df_test.ap_lo/df_train.ap_hi\n",
    "#df_train['fat']=df_train.weight/(((df_train.height)/100)**2)\n",
    "#df_test['fat']=df_test.weight/(((df_train.height)/100)**2)\n",
    "#df_train['diff_weight']=50+0.75*(df_train.height-150) + (df_train.age_year-20)/4-df_train.weight\n",
    "#df_test['diff_weight']=50+0.75*(df_test.height-150) + (df_test.age_year-20)/4-df_test.weight\n",
    "#df_train['age_weight']=df_train.age/df_train.weight\n",
    "#df_test['age_weight']=df_test.age/df_test.weight"
   ]
  },
  {
   "cell_type": "code",
   "execution_count": 6,
   "metadata": {
    "collapsed": true
   },
   "outputs": [],
   "source": [
    "df_test.alco=df_test.alco.fillna(0)\n",
    "df_test.smoke=df_test.smoke.fillna(0)\n",
    "df_test.active=df_test.active.fillna(1)\n",
    "features=list(df_train.columns)\n",
    "features.remove('cardio')\n"
   ]
  },
  {
   "cell_type": "code",
   "execution_count": null,
   "metadata": {
    "collapsed": true
   },
   "outputs": [],
   "source": [
    "\n"
   ]
  },
  {
   "cell_type": "code",
   "execution_count": 7,
   "metadata": {
    "collapsed": true
   },
   "outputs": [],
   "source": [
    "def xgb_factory(xgb_params):\n",
    "    return( xgb.XGBClassifier(\n",
    "             learning_rate=xgb_params['learning_rate'],\n",
    "             n_estimators=xgb_params['n_estimators'],\n",
    "             max_depth=xgb_params['max_depth'],\n",
    "             min_child_weight=xgb_params['min_child_weight'],\n",
    "             gamma=xgb_params['gamma'],\n",
    "             subsample=xgb_params['subsample'],\n",
    "             colsample_bytree=xgb_params['colsample_bytree'],\n",
    "             objective=xgb_params['objective'],\n",
    "             nthread=4,\n",
    "             scale_pos_weight=1,\n",
    "             seed=xgb_params['seed']))\n",
    "       "
   ]
  },
  {
   "cell_type": "code",
   "execution_count": 8,
   "metadata": {
    "collapsed": true
   },
   "outputs": [],
   "source": [
    "cv = StratifiedKFold(df_train.cardio, n_folds=3, shuffle=True, random_state=123)"
   ]
  },
  {
   "cell_type": "code",
   "execution_count": 9,
   "metadata": {
    "collapsed": true
   },
   "outputs": [],
   "source": [
    "def makeCV(xgb_params,param_grid):\n",
    "    hyper = xgb_factory(xgb_params)\n",
    "    alg_xgb_grid = GridSearchCV(hyper, param_grid,cv=cv, scoring='neg_log_loss',refit=True, verbose=1, n_jobs=4)\n",
    "    alg_xgb_grid.fit(df_train.loc[:,features],df_train.cardio)\n",
    "    alg_xgb_best = alg_xgb_grid.best_estimator_\n",
    "    print(\"Accuracy (xgboost auto): {} with params {}\"\n",
    "      .format(alg_xgb_grid.best_score_, alg_xgb_grid.best_params_))\n",
    "\n",
    "    return alg_xgb_grid.best_params_\n"
   ]
  },
  {
   "cell_type": "code",
   "execution_count": 10,
   "metadata": {
    "collapsed": true
   },
   "outputs": [],
   "source": [
    "def tuneDepth(xgb_params):\n",
    "    param_grid = {\n",
    "             'max_depth':range(3,5,1),\n",
    "             'min_child_weight':range(5,9,1)\n",
    "    }\n",
    "    best_params=makeCV(xgb_params,param_grid)\n",
    "    xgb_params['max_depth']=best_params['max_depth']\n",
    "    xgb_params['min_child_weight']=best_params['min_child_weight']\n",
    "    return xgb_params\n",
    "\n",
    "def tuneGamma(xgb_params):\n",
    "    param_grid = {\n",
    "         'gamma':[i/20.0 for i in range(0,6)]\n",
    "        }\n",
    "    best_params=makeCV(xgb_params,param_grid)\n",
    "\n",
    "    xgb_params['gamma']=best_params['gamma']\n",
    "    return xgb_params\n",
    "\n",
    "\n",
    "def tuneSample(xgb_params):\n",
    "   \n",
    "    param_grid = {\n",
    "         'subsample':[i/10.0 for i in range(6,10)],\n",
    "         'colsample_bytree':[i/10.0 for i in range(6,10)]\n",
    "        }\n",
    "\n",
    "    best_params=makeCV(xgb_params,param_grid)\n",
    "\n",
    "\n",
    "    xgb_params['subsample']=best_params['subsample']\n",
    "    xgb_params['colsample_bytree']=best_params['colsample_bytree']\n",
    "    return xgb_params\n",
    "\n",
    "def tuneAlpha(xgb_params):\n",
    "   \n",
    "    param_grid = {\n",
    "         'reg_alpha':[0.01, 0.013, 0.015, 0.017, 0.02, 0.023]\n",
    "        }\n",
    "    best_params=makeCV(xgb_params,param_grid)\n",
    "    xgb_params['reg_alpha']=best_params['reg_alpha']\n",
    "    return xgb_params\n",
    "\n",
    "def tuneLearn(xgb_params):\n",
    "    param_grid =  {\"n_estimators\": [900, 1000 , 1100, 1200, 1300],\n",
    "        \"learning_rate\": [0.01, 0.015, 0.02]}\n",
    "\n",
    "    best_params=makeCV(xgb_params,param_grid)\n",
    "\n",
    "    xgb_params['n_estimators']=best_params['n_estimators']\n",
    "    xgb_params['learning_rate']=best_params['learning_rate']\n",
    "    return xgb_params"
   ]
  },
  {
   "cell_type": "code",
   "execution_count": 11,
   "metadata": {},
   "outputs": [],
   "source": [
    "xgb_params={'colsample_bytree': 0.6,\n",
    " 'eval_metric': 'logloss',\n",
    " 'gamma': 0.1,\n",
    " 'learning_rate': 0.02,\n",
    " 'max_depth': 4,\n",
    " 'min_child_weight': 8,\n",
    " 'n_estimators': 900,\n",
    " 'objective': 'binary:logistic',\n",
    " 'reg_alpha': 0.017,\n",
    " 'seed': 123,\n",
    " 'silent': 1,\n",
    " 'subsample': 0.9}"
   ]
  },
  {
   "cell_type": "code",
   "execution_count": 12,
   "metadata": {},
   "outputs": [
    {
     "name": "stdout",
     "output_type": "stream",
     "text": [
      "Fitting 3 folds for each of 8 candidates, totalling 24 fits\n"
     ]
    },
    {
     "name": "stderr",
     "output_type": "stream",
     "text": [
      "[Parallel(n_jobs=4)]: Done  24 out of  24 | elapsed:  4.7min finished\n"
     ]
    },
    {
     "name": "stdout",
     "output_type": "stream",
     "text": [
      "Accuracy (xgboost auto): -0.53873395723 with params {'max_depth': 4, 'min_child_weight': 8}\n",
      "Fitting 3 folds for each of 6 candidates, totalling 18 fits\n"
     ]
    },
    {
     "name": "stderr",
     "output_type": "stream",
     "text": [
      "[Parallel(n_jobs=4)]: Done  18 out of  18 | elapsed:  3.8min finished\n"
     ]
    },
    {
     "name": "stdout",
     "output_type": "stream",
     "text": [
      "Accuracy (xgboost auto): -0.538730831088 with params {'gamma': 0.15}\n",
      "Fitting 3 folds for each of 6 candidates, totalling 18 fits\n"
     ]
    },
    {
     "name": "stderr",
     "output_type": "stream",
     "text": [
      "[Parallel(n_jobs=4)]: Done  18 out of  18 | elapsed:  3.9min finished\n"
     ]
    },
    {
     "name": "stdout",
     "output_type": "stream",
     "text": [
      "Accuracy (xgboost auto): -0.538745089556 with params {'reg_alpha': 0.01}\n",
      "Fitting 3 folds for each of 12 candidates, totalling 36 fits\n"
     ]
    },
    {
     "name": "stderr",
     "output_type": "stream",
     "text": [
      "[Parallel(n_jobs=4)]: Done  36 out of  36 | elapsed:  8.1min finished\n"
     ]
    },
    {
     "name": "stdout",
     "output_type": "stream",
     "text": [
      "Accuracy (xgboost auto): -0.538605874899 with params {'n_estimators': 1100, 'learning_rate': 0.01}\n",
      "{'reg_alpha': 0.01, 'eval_metric': 'logloss', 'learning_rate': 0.01, 'n_estimators': 1100, 'seed': 123, 'colsample_bytree': 0.6, 'silent': 1, 'min_child_weight': 8, 'subsample': 0.9, 'objective': 'binary:logistic', 'max_depth': 4, 'gamma': 0.15}\n"
     ]
    }
   ],
   "source": [
    "xgb_params=tuneDepth(xgb_params)\n",
    "xgb_params=tuneGamma(xgb_params)\n",
    "#xgb_params=tuneSample(xgb_params)\n",
    "xgb_params=tuneAlpha(xgb_params)\n",
    "xgb_params=tuneLearn(xgb_params)\n",
    "\n",
    "print xgb_params"
   ]
  },
  {
   "cell_type": "code",
   "execution_count": 18,
   "metadata": {},
   "outputs": [
    {
     "name": "stdout",
     "output_type": "stream",
     "text": [
      "Fitting 3 folds for each of 12 candidates, totalling 36 fits\n"
     ]
    },
    {
     "name": "stderr",
     "output_type": "stream",
     "text": [
      "[Parallel(n_jobs=4)]: Done  36 out of  36 | elapsed:  8.1min finished\n"
     ]
    },
    {
     "name": "stdout",
     "output_type": "stream",
     "text": [
      "Accuracy (xgboost auto): -0.538608121746 with params {'n_estimators': 1100, 'learning_rate': 0.01}\n"
     ]
    }
   ],
   "source": [
    "xgb_params={'colsample_bytree': 0.6,\n",
    " 'eval_metric': 'logloss',\n",
    " 'gamma': 0.1,\n",
    " 'learning_rate': 0.02,\n",
    " 'max_depth': 4,\n",
    " 'min_child_weight': 8,\n",
    " 'n_estimators': 900,\n",
    " 'objective': 'binary:logistic',\n",
    " 'reg_alpha': 0.01,\n",
    " 'seed': 123,\n",
    " 'silent': 1,\n",
    " 'subsample': 0.9}\n",
    "\n",
    "xgb_params=tuneLearn(xgb_params)"
   ]
  },
  {
   "cell_type": "code",
   "execution_count": 19,
   "metadata": {},
   "outputs": [
    {
     "name": "stdout",
     "output_type": "stream",
     "text": [
      "-0.538178449821 0.00544668072141\n"
     ]
    }
   ],
   "source": [
    "hyper = xgb_factory(xgb_params)\n",
    "kfold = KFold(n_splits=10, random_state=7)\n",
    "#results = cross_val_score(hyper, df_train.loc[:,features], df_train.cardio, cv=kfold,scoring='neg_log_loss',n_jobs=-1)\n",
    "results = cross_val_score(hyper, df_train.loc[:,features], df_train.cardio, cv=kfold,scoring='neg_log_loss',n_jobs=-1)\n",
    "print results.mean(),results.std()\n",
    "\n",
    "fit=hyper.fit(df_train.loc[:,features],df_train.cardio,eval_metric='logloss')\n",
    "\n",
    "#model = xgb.train(xgb_params,dtrain_all, num_boost_round=num_boost_round)\n",
    "#pred = model.predict(dtest)\n",
    "pred = fit.predict_proba(df_test.loc[:,features])[:,1]"
   ]
  },
  {
   "cell_type": "code",
   "execution_count": 20,
   "metadata": {},
   "outputs": [
    {
     "data": {
      "image/png": "[encoded data removed]",
      "text/plain": [
       "<matplotlib.figure.Figure at 0x102edef0>"
      ]
     },
     "metadata": {},
     "output_type": "display_data"
    }
   ],
   "source": [
    "feat_imp = pd.Series(hyper.booster().get_fscore()).sort_values(ascending=False)\n",
    "feat_imp.plot(kind='bar', title='Feature Importances')\n",
    "plt.ylabel('Feature Importance Score')\n",
    "plt.show()"
   ]
  },
  {
   "cell_type": "code",
   "execution_count": 21,
   "metadata": {
    "collapsed": true
   },
   "outputs": [],
   "source": [
    "res=pd.DataFrame({'cardio':pred},columns=['id','cardio'])\n",
    "res.cardio.to_csv(location+'submission.csv',index=False,header=False)"
   ]
  },
  {
   "cell_type": "code",
   "execution_count": null,
   "metadata": {
    "collapsed": true
   },
   "outputs": [],
   "source": []
  }
 ],
 "metadata": {
  "kernelspec": {
   "display_name": "Python 2",
   "language": "python",
   "name": "python2"
  },
  "language_info": {
   "codemirror_mode": {
    "name": "ipython",
    "version": 2
   },
   "file_extension": ".py",
   "mimetype": "text/x-python",
   "name": "python",
   "nbconvert_exporter": "python",
   "pygments_lexer": "ipython2",
   "version": "2.7.13"
  }
 },
 "nbformat": 4,
 "nbformat_minor": 2
}
